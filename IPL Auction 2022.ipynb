{
 "cells": [
  {
   "cell_type": "code",
   "execution_count": 1,
   "id": "6e7b1414",
   "metadata": {},
   "outputs": [],
   "source": [
    "import pandas as pd\n",
    "import numpy as np\n",
    "import matplotlib.pyplot as plt \n",
    "import seaborn as sns\n",
    "\n",
    "import warnings\n",
    "warnings.filterwarnings(\"ignore\")"
   ]
  },
  {
   "cell_type": "code",
   "execution_count": 2,
   "id": "2c19667e",
   "metadata": {},
   "outputs": [],
   "source": [
    "ipl=pd.read_csv(\"C:/Users/admin/Desktop/EDA projects/IPL Auction2022/ipl_2022_dataset.csv\")"
   ]
  },
  {
   "cell_type": "code",
   "execution_count": 3,
   "id": "4be64be0",
   "metadata": {},
   "outputs": [
    {
     "data": {
      "text/html": [
       "<div>\n",
       "<style scoped>\n",
       "    .dataframe tbody tr th:only-of-type {\n",
       "        vertical-align: middle;\n",
       "    }\n",
       "\n",
       "    .dataframe tbody tr th {\n",
       "        vertical-align: top;\n",
       "    }\n",
       "\n",
       "    .dataframe thead th {\n",
       "        text-align: right;\n",
       "    }\n",
       "</style>\n",
       "<table border=\"1\" class=\"dataframe\">\n",
       "  <thead>\n",
       "    <tr style=\"text-align: right;\">\n",
       "      <th></th>\n",
       "      <th>Unnamed: 0</th>\n",
       "      <th>Player</th>\n",
       "      <th>Base Price</th>\n",
       "      <th>TYPE</th>\n",
       "      <th>COST IN ₹ (CR.)</th>\n",
       "      <th>Cost IN $ (000)</th>\n",
       "      <th>2021 Squad</th>\n",
       "      <th>Team</th>\n",
       "    </tr>\n",
       "  </thead>\n",
       "  <tbody>\n",
       "    <tr>\n",
       "      <th>0</th>\n",
       "      <td>0</td>\n",
       "      <td>Rashid Khan</td>\n",
       "      <td>Draft Pick</td>\n",
       "      <td>BOWLER</td>\n",
       "      <td>15.0</td>\n",
       "      <td>1950.0</td>\n",
       "      <td>SRH</td>\n",
       "      <td>Gujarat Titans</td>\n",
       "    </tr>\n",
       "    <tr>\n",
       "      <th>1</th>\n",
       "      <td>1</td>\n",
       "      <td>Hardik Pandya</td>\n",
       "      <td>Draft Pick</td>\n",
       "      <td>ALL-ROUNDER</td>\n",
       "      <td>15.0</td>\n",
       "      <td>1950.0</td>\n",
       "      <td>MI</td>\n",
       "      <td>Gujarat Titans</td>\n",
       "    </tr>\n",
       "    <tr>\n",
       "      <th>2</th>\n",
       "      <td>2</td>\n",
       "      <td>Lockie Ferguson</td>\n",
       "      <td>2 Cr</td>\n",
       "      <td>BOWLER</td>\n",
       "      <td>10.0</td>\n",
       "      <td>1300.0</td>\n",
       "      <td>KKR</td>\n",
       "      <td>Gujarat Titans</td>\n",
       "    </tr>\n",
       "    <tr>\n",
       "      <th>3</th>\n",
       "      <td>3</td>\n",
       "      <td>Rahul Tewatia</td>\n",
       "      <td>40 Lakh</td>\n",
       "      <td>ALL-ROUNDER</td>\n",
       "      <td>9.0</td>\n",
       "      <td>1170.0</td>\n",
       "      <td>RR</td>\n",
       "      <td>Gujarat Titans</td>\n",
       "    </tr>\n",
       "    <tr>\n",
       "      <th>4</th>\n",
       "      <td>4</td>\n",
       "      <td>Shubman Gill</td>\n",
       "      <td>Draft Pick</td>\n",
       "      <td>BATTER</td>\n",
       "      <td>8.0</td>\n",
       "      <td>1040.0</td>\n",
       "      <td>KKR</td>\n",
       "      <td>Gujarat Titans</td>\n",
       "    </tr>\n",
       "  </tbody>\n",
       "</table>\n",
       "</div>"
      ],
      "text/plain": [
       "   Unnamed: 0           Player  Base Price         TYPE  COST IN ₹ (CR.)  \\\n",
       "0           0      Rashid Khan  Draft Pick       BOWLER             15.0   \n",
       "1           1    Hardik Pandya  Draft Pick  ALL-ROUNDER             15.0   \n",
       "2           2  Lockie Ferguson        2 Cr       BOWLER             10.0   \n",
       "3           3    Rahul Tewatia     40 Lakh  ALL-ROUNDER              9.0   \n",
       "4           4     Shubman Gill  Draft Pick       BATTER              8.0   \n",
       "\n",
       "   Cost IN $ (000) 2021 Squad            Team  \n",
       "0           1950.0        SRH  Gujarat Titans  \n",
       "1           1950.0         MI  Gujarat Titans  \n",
       "2           1300.0        KKR  Gujarat Titans  \n",
       "3           1170.0         RR  Gujarat Titans  \n",
       "4           1040.0        KKR  Gujarat Titans  "
      ]
     },
     "execution_count": 3,
     "metadata": {},
     "output_type": "execute_result"
    }
   ],
   "source": [
    "ipl.head()"
   ]
  },
  {
   "cell_type": "code",
   "execution_count": 4,
   "id": "534acb7a",
   "metadata": {},
   "outputs": [
    {
     "data": {
      "text/plain": [
       "(633, 8)"
      ]
     },
     "execution_count": 4,
     "metadata": {},
     "output_type": "execute_result"
    }
   ],
   "source": [
    "#total no of rows and col\n",
    "ipl.shape"
   ]
  },
  {
   "cell_type": "code",
   "execution_count": 5,
   "id": "d46972c7",
   "metadata": {},
   "outputs": [
    {
     "data": {
      "text/plain": [
       "633"
      ]
     },
     "execution_count": 5,
     "metadata": {},
     "output_type": "execute_result"
    }
   ],
   "source": [
    "#total n of players\n",
    "ipl.shape[0]"
   ]
  },
  {
   "cell_type": "code",
   "execution_count": 6,
   "id": "b4ee432d",
   "metadata": {},
   "outputs": [
    {
     "name": "stdout",
     "output_type": "stream",
     "text": [
      "<class 'pandas.core.frame.DataFrame'>\n",
      "RangeIndex: 633 entries, 0 to 632\n",
      "Data columns (total 8 columns):\n",
      " #   Column           Non-Null Count  Dtype  \n",
      "---  ------           --------------  -----  \n",
      " 0   Unnamed: 0       633 non-null    int64  \n",
      " 1   Player           633 non-null    object \n",
      " 2   Base Price       633 non-null    object \n",
      " 3   TYPE             633 non-null    object \n",
      " 4   COST IN ₹ (CR.)  237 non-null    float64\n",
      " 5   Cost IN $ (000)  237 non-null    float64\n",
      " 6   2021 Squad       199 non-null    object \n",
      " 7   Team             633 non-null    object \n",
      "dtypes: float64(2), int64(1), object(5)\n",
      "memory usage: 39.7+ KB\n"
     ]
    }
   ],
   "source": [
    "#to check non-null,data type,no of col\n",
    "ipl.info()"
   ]
  },
  {
   "cell_type": "code",
   "execution_count": 7,
   "id": "2163c500",
   "metadata": {},
   "outputs": [],
   "source": [
    "# drop col unnamed\n",
    "ipl.drop(\"Unnamed: 0\",axis=1,inplace=True)"
   ]
  },
  {
   "cell_type": "code",
   "execution_count": 8,
   "id": "19b68aca",
   "metadata": {},
   "outputs": [
    {
     "data": {
      "text/plain": [
       "Index(['Player', 'Base Price', 'TYPE', 'COST IN ₹ (CR.)', 'Cost IN $ (000)',\n",
       "       '2021 Squad', 'Team'],\n",
       "      dtype='object')"
      ]
     },
     "execution_count": 8,
     "metadata": {},
     "output_type": "execute_result"
    }
   ],
   "source": [
    "ipl.columns"
   ]
  },
  {
   "cell_type": "code",
   "execution_count": 9,
   "id": "2f373205",
   "metadata": {},
   "outputs": [
    {
     "data": {
      "text/plain": [
       "Player               0\n",
       "Base Price           0\n",
       "TYPE                 0\n",
       "COST IN ₹ (CR.)    396\n",
       "Cost IN $ (000)    396\n",
       "2021 Squad         434\n",
       "Team                 0\n",
       "dtype: int64"
      ]
     },
     "execution_count": 9,
     "metadata": {},
     "output_type": "execute_result"
    }
   ],
   "source": [
    "#no of null values in each col\n",
    "ipl.isnull().sum()"
   ]
  },
  {
   "cell_type": "code",
   "execution_count": 10,
   "id": "88f7c5b1",
   "metadata": {},
   "outputs": [],
   "source": [
    "#replacing null values\n",
    "ipl[\"COST IN ₹ (CR.)\"]=ipl[\"COST IN ₹ (CR.)\"].fillna(0)\n",
    "ipl[\"Cost IN $ (000)\"]=ipl[\"Cost IN $ (000)\"].fillna(0)\n",
    "ipl[\"2021 Squad\"]=ipl[\"2021 Squad\"].fillna(\"Not participated\")"
   ]
  },
  {
   "cell_type": "code",
   "execution_count": 11,
   "id": "e065db93",
   "metadata": {},
   "outputs": [
    {
     "data": {
      "text/plain": [
       "Player             0\n",
       "Base Price         0\n",
       "TYPE               0\n",
       "COST IN ₹ (CR.)    0\n",
       "Cost IN $ (000)    0\n",
       "2021 Squad         0\n",
       "Team               0\n",
       "dtype: int64"
      ]
     },
     "execution_count": 11,
     "metadata": {},
     "output_type": "execute_result"
    }
   ],
   "source": [
    "ipl.isnull().sum()"
   ]
  },
  {
   "cell_type": "markdown",
   "id": "4d4a2a89",
   "metadata": {},
   "source": [
    "creating new column\n"
   ]
  },
  {
   "cell_type": "code",
   "execution_count": 12,
   "id": "9a819f2f",
   "metadata": {},
   "outputs": [
    {
     "data": {
      "text/plain": [
       "array(['Gujarat Titans', 'Chennai Super Kings', 'Delhi Capitals',\n",
       "       'Kolkata Knight Riders', 'Punjab Kings', 'Lucknow Super Giants',\n",
       "       'Mumbai Indians', 'Royal Challengers Bangalore',\n",
       "       'Rajasthan Royals', 'Sunrisers Hyderabad', 'Unsold'], dtype=object)"
      ]
     },
     "execution_count": 12,
     "metadata": {},
     "output_type": "execute_result"
    }
   ],
   "source": [
    "\n",
    "ipl[\"Team\"].unique()"
   ]
  },
  {
   "cell_type": "code",
   "execution_count": 13,
   "id": "0871f1d9",
   "metadata": {},
   "outputs": [
    {
     "data": {
      "text/plain": [
       "0       True\n",
       "1       True\n",
       "2       True\n",
       "3       True\n",
       "4       True\n",
       "       ...  \n",
       "628    False\n",
       "629    False\n",
       "630    False\n",
       "631    False\n",
       "632    False\n",
       "Name: Team, Length: 633, dtype: bool"
      ]
     },
     "execution_count": 13,
     "metadata": {},
     "output_type": "execute_result"
    }
   ],
   "source": [
    "ipl[\"Team\"]!=\"Unsold\""
   ]
  },
  {
   "cell_type": "code",
   "execution_count": 14,
   "id": "00575067",
   "metadata": {},
   "outputs": [
    {
     "data": {
      "text/plain": [
       "array(['Gujarat Titans', 'Chennai Super Kings', 'Delhi Capitals',\n",
       "       'Kolkata Knight Riders', 'Punjab Kings', 'Lucknow Super Giants',\n",
       "       'Mumbai Indians', 'Royal Challengers Bangalore',\n",
       "       'Rajasthan Royals', 'Sunrisers Hyderabad'], dtype=object)"
      ]
     },
     "execution_count": 14,
     "metadata": {},
     "output_type": "execute_result"
    }
   ],
   "source": [
    "ipl[ipl[\"Team\"]!=\"Unsold\"][\"Team\"].unique()"
   ]
  },
  {
   "cell_type": "code",
   "execution_count": 15,
   "id": "f0c5398f",
   "metadata": {},
   "outputs": [
    {
     "data": {
      "text/plain": [
       "array(['Gujarat Titans', 'Chennai Super Kings', 'Delhi Capitals',\n",
       "       'Kolkata Knight Riders', 'Punjab Kings', 'Lucknow Super Giants',\n",
       "       'Mumbai Indians', 'Royal Challengers Bangalore',\n",
       "       'Rajasthan Royals', 'Sunrisers Hyderabad'], dtype=object)"
      ]
     },
     "execution_count": 15,
     "metadata": {},
     "output_type": "execute_result"
    }
   ],
   "source": [
    "teams=ipl[ipl[\"Team\"]!=\"Unsold\"][\"Team\"].unique()\n",
    "teams"
   ]
  },
  {
   "cell_type": "code",
   "execution_count": 16,
   "id": "c3910a9a",
   "metadata": {},
   "outputs": [],
   "source": [
    "#ipl.head()\n",
    "ipl[\"Status\"]=ipl[\"Team\"].replace(teams,\"sold\")"
   ]
  },
  {
   "cell_type": "code",
   "execution_count": 17,
   "id": "4e87118f",
   "metadata": {},
   "outputs": [
    {
     "data": {
      "text/plain": [
       "array(['sold', 'Unsold'], dtype=object)"
      ]
     },
     "execution_count": 17,
     "metadata": {},
     "output_type": "execute_result"
    }
   ],
   "source": [
    "ipl[\"Status\"].unique()"
   ]
  },
  {
   "cell_type": "markdown",
   "id": "81db0be7",
   "metadata": {},
   "source": [
    "Check duplicated players"
   ]
  },
  {
   "cell_type": "code",
   "execution_count": 18,
   "id": "c137de6c",
   "metadata": {},
   "outputs": [
    {
     "data": {
      "text/html": [
       "<div>\n",
       "<style scoped>\n",
       "    .dataframe tbody tr th:only-of-type {\n",
       "        vertical-align: middle;\n",
       "    }\n",
       "\n",
       "    .dataframe tbody tr th {\n",
       "        vertical-align: top;\n",
       "    }\n",
       "\n",
       "    .dataframe thead th {\n",
       "        text-align: right;\n",
       "    }\n",
       "</style>\n",
       "<table border=\"1\" class=\"dataframe\">\n",
       "  <thead>\n",
       "    <tr style=\"text-align: right;\">\n",
       "      <th></th>\n",
       "      <th>Player</th>\n",
       "      <th>Base Price</th>\n",
       "      <th>TYPE</th>\n",
       "      <th>COST IN ₹ (CR.)</th>\n",
       "      <th>Cost IN $ (000)</th>\n",
       "      <th>2021 Squad</th>\n",
       "      <th>Team</th>\n",
       "      <th>Status</th>\n",
       "    </tr>\n",
       "  </thead>\n",
       "  <tbody>\n",
       "    <tr>\n",
       "      <th>62</th>\n",
       "      <td>Lalit Yadav</td>\n",
       "      <td>20 Lakh</td>\n",
       "      <td>ALL-ROUNDER</td>\n",
       "      <td>0.65</td>\n",
       "      <td>84.5</td>\n",
       "      <td>DC</td>\n",
       "      <td>Delhi Capitals</td>\n",
       "      <td>sold</td>\n",
       "    </tr>\n",
       "    <tr>\n",
       "      <th>240</th>\n",
       "      <td>Amit Mishra</td>\n",
       "      <td>1.5 Cr</td>\n",
       "      <td>BOWLER</td>\n",
       "      <td>0.00</td>\n",
       "      <td>0.0</td>\n",
       "      <td>DC</td>\n",
       "      <td>Unsold</td>\n",
       "      <td>Unsold</td>\n",
       "    </tr>\n",
       "    <tr>\n",
       "      <th>499</th>\n",
       "      <td>Amit Mishra</td>\n",
       "      <td>20 Lakh</td>\n",
       "      <td>BOWLER</td>\n",
       "      <td>0.00</td>\n",
       "      <td>0.0</td>\n",
       "      <td>Not participated</td>\n",
       "      <td>Unsold</td>\n",
       "      <td>Unsold</td>\n",
       "    </tr>\n",
       "    <tr>\n",
       "      <th>518</th>\n",
       "      <td>Shivam Sharma</td>\n",
       "      <td>20 Lakh</td>\n",
       "      <td>ALL-ROUNDER</td>\n",
       "      <td>0.00</td>\n",
       "      <td>0.0</td>\n",
       "      <td>Not participated</td>\n",
       "      <td>Unsold</td>\n",
       "      <td>Unsold</td>\n",
       "    </tr>\n",
       "    <tr>\n",
       "      <th>530</th>\n",
       "      <td>Lalit Yadav</td>\n",
       "      <td>20 Lakh</td>\n",
       "      <td>BOWLER</td>\n",
       "      <td>0.00</td>\n",
       "      <td>0.0</td>\n",
       "      <td>Not participated</td>\n",
       "      <td>Unsold</td>\n",
       "      <td>Unsold</td>\n",
       "    </tr>\n",
       "    <tr>\n",
       "      <th>537</th>\n",
       "      <td>Shubham Singh</td>\n",
       "      <td>20 Lakh</td>\n",
       "      <td>ALL-ROUNDER</td>\n",
       "      <td>0.00</td>\n",
       "      <td>0.0</td>\n",
       "      <td>Not participated</td>\n",
       "      <td>Unsold</td>\n",
       "      <td>Unsold</td>\n",
       "    </tr>\n",
       "    <tr>\n",
       "      <th>544</th>\n",
       "      <td>Shubham Singh</td>\n",
       "      <td>20 Lakh</td>\n",
       "      <td>BOWLER</td>\n",
       "      <td>0.00</td>\n",
       "      <td>0.0</td>\n",
       "      <td>Not participated</td>\n",
       "      <td>Unsold</td>\n",
       "      <td>Unsold</td>\n",
       "    </tr>\n",
       "    <tr>\n",
       "      <th>569</th>\n",
       "      <td>Shivam Sharma</td>\n",
       "      <td>20 Lakh</td>\n",
       "      <td>ALL-ROUNDER</td>\n",
       "      <td>0.00</td>\n",
       "      <td>0.0</td>\n",
       "      <td>Not participated</td>\n",
       "      <td>Unsold</td>\n",
       "      <td>Unsold</td>\n",
       "    </tr>\n",
       "  </tbody>\n",
       "</table>\n",
       "</div>"
      ],
      "text/plain": [
       "            Player Base Price         TYPE  COST IN ₹ (CR.)  Cost IN $ (000)  \\\n",
       "62     Lalit Yadav    20 Lakh  ALL-ROUNDER             0.65             84.5   \n",
       "240    Amit Mishra     1.5 Cr       BOWLER             0.00              0.0   \n",
       "499    Amit Mishra    20 Lakh       BOWLER             0.00              0.0   \n",
       "518  Shivam Sharma    20 Lakh  ALL-ROUNDER             0.00              0.0   \n",
       "530    Lalit Yadav    20 Lakh       BOWLER             0.00              0.0   \n",
       "537  Shubham Singh    20 Lakh  ALL-ROUNDER             0.00              0.0   \n",
       "544  Shubham Singh    20 Lakh       BOWLER             0.00              0.0   \n",
       "569  Shivam Sharma    20 Lakh  ALL-ROUNDER             0.00              0.0   \n",
       "\n",
       "           2021 Squad            Team  Status  \n",
       "62                 DC  Delhi Capitals    sold  \n",
       "240                DC          Unsold  Unsold  \n",
       "499  Not participated          Unsold  Unsold  \n",
       "518  Not participated          Unsold  Unsold  \n",
       "530  Not participated          Unsold  Unsold  \n",
       "537  Not participated          Unsold  Unsold  \n",
       "544  Not participated          Unsold  Unsold  \n",
       "569  Not participated          Unsold  Unsold  "
      ]
     },
     "execution_count": 18,
     "metadata": {},
     "output_type": "execute_result"
    }
   ],
   "source": [
    "ipl[ipl[\"Player\"].duplicated(keep=False)]"
   ]
  },
  {
   "cell_type": "markdown",
   "id": "0fc46f4a",
   "metadata": {},
   "source": [
    "How many types of players participated"
   ]
  },
  {
   "cell_type": "code",
   "execution_count": 19,
   "id": "e020cdfb",
   "metadata": {},
   "outputs": [
    {
     "data": {
      "text/plain": [
       "4"
      ]
     },
     "execution_count": 19,
     "metadata": {},
     "output_type": "execute_result"
    }
   ],
   "source": [
    "ipl[\"TYPE\"].nunique()"
   ]
  },
  {
   "cell_type": "markdown",
   "id": "0bccf95e",
   "metadata": {},
   "source": [
    "No. of players in each type"
   ]
  },
  {
   "cell_type": "code",
   "execution_count": 20,
   "id": "131d7f63",
   "metadata": {},
   "outputs": [
    {
     "data": {
      "text/plain": [
       "ALL-ROUNDER     242\n",
       "BOWLER          215\n",
       "BATTER          112\n",
       "WICKETKEEPER     64\n",
       "Name: TYPE, dtype: int64"
      ]
     },
     "execution_count": 20,
     "metadata": {},
     "output_type": "execute_result"
    }
   ],
   "source": [
    "ipl[\"TYPE\"].value_counts()"
   ]
  },
  {
   "cell_type": "code",
   "execution_count": 21,
   "id": "749dd9e4",
   "metadata": {},
   "outputs": [
    {
     "data": {
      "text/html": [
       "<div>\n",
       "<style scoped>\n",
       "    .dataframe tbody tr th:only-of-type {\n",
       "        vertical-align: middle;\n",
       "    }\n",
       "\n",
       "    .dataframe tbody tr th {\n",
       "        vertical-align: top;\n",
       "    }\n",
       "\n",
       "    .dataframe thead th {\n",
       "        text-align: right;\n",
       "    }\n",
       "</style>\n",
       "<table border=\"1\" class=\"dataframe\">\n",
       "  <thead>\n",
       "    <tr style=\"text-align: right;\">\n",
       "      <th></th>\n",
       "      <th>index</th>\n",
       "      <th>TYPE</th>\n",
       "    </tr>\n",
       "  </thead>\n",
       "  <tbody>\n",
       "    <tr>\n",
       "      <th>0</th>\n",
       "      <td>ALL-ROUNDER</td>\n",
       "      <td>242</td>\n",
       "    </tr>\n",
       "    <tr>\n",
       "      <th>1</th>\n",
       "      <td>BOWLER</td>\n",
       "      <td>215</td>\n",
       "    </tr>\n",
       "    <tr>\n",
       "      <th>2</th>\n",
       "      <td>BATTER</td>\n",
       "      <td>112</td>\n",
       "    </tr>\n",
       "    <tr>\n",
       "      <th>3</th>\n",
       "      <td>WICKETKEEPER</td>\n",
       "      <td>64</td>\n",
       "    </tr>\n",
       "  </tbody>\n",
       "</table>\n",
       "</div>"
      ],
      "text/plain": [
       "          index  TYPE\n",
       "0   ALL-ROUNDER   242\n",
       "1        BOWLER   215\n",
       "2        BATTER   112\n",
       "3  WICKETKEEPER    64"
      ]
     },
     "execution_count": 21,
     "metadata": {},
     "output_type": "execute_result"
    }
   ],
   "source": [
    "#making table of above\n",
    "types=ipl[\"TYPE\"].value_counts()\n",
    "types.reset_index()"
   ]
  },
  {
   "cell_type": "markdown",
   "id": "e3dfab4f",
   "metadata": {},
   "source": [
    "Pie chart for types"
   ]
  },
  {
   "cell_type": "code",
   "execution_count": 22,
   "id": "3d6b0a1f",
   "metadata": {},
   "outputs": [
    {
     "data": {
      "text/plain": [
       "[]"
      ]
     },
     "execution_count": 22,
     "metadata": {},
     "output_type": "execute_result"
    },
    {
     "data": {
      "image/png": "[encoded data removed]",
      "text/plain": [
       "<Figure size 432x288 with 1 Axes>"
      ]
     },
     "metadata": {},
     "output_type": "display_data"
    }
   ],
   "source": [
    "plt.pie(types.values,labels=types.index,labeldistance=1.2,   =\"%0.3f%%\",shadow=True,startangle=60)\n",
    "plt.title(\"Types of players participated\")\n",
    "plt.plot()"
   ]
  },
  {
   "cell_type": "markdown",
   "id": "89474aba",
   "metadata": {},
   "source": [
    "Bar graph for sold and unsold"
   ]
  },
  {
   "cell_type": "code",
   "execution_count": 23,
   "id": "ac514596",
   "metadata": {},
   "outputs": [
    {
     "data": {
      "text/plain": [
       "Text(0.5, 1.0, 'Sold vs Unsold')"
      ]
     },
     "execution_count": 23,
     "metadata": {},
     "output_type": "execute_result"
    },
    {
     "data": {
      "image/png": "[encoded data removed]",
      "text/plain": [
       "<Figure size 432x288 with 1 Axes>"
      ]
     },
     "metadata": {
      "needs_background": "light"
     },
     "output_type": "display_data"
    }
   ],
   "source": [
    "sns.countplot(ipl[\"Status\"],palette=[\"Green\",\"Red\"])\n",
    "plt.title(\"Sold vs Unsold\")"
   ]
  },
  {
   "cell_type": "code",
   "execution_count": 24,
   "id": "0bf924c9",
   "metadata": {},
   "outputs": [
    {
     "data": {
      "text/plain": [
       "Status\n",
       "Unsold    396\n",
       "sold      237\n",
       "Name: Player, dtype: int64"
      ]
     },
     "execution_count": 24,
     "metadata": {},
     "output_type": "execute_result"
    }
   ],
   "source": [
    "ipl.groupby(\"Status\")[\"Player\"].count()"
   ]
  },
  {
   "cell_type": "markdown",
   "id": "4296924a",
   "metadata": {},
   "source": [
    "Total no. of players bought by each team"
   ]
  },
  {
   "cell_type": "code",
   "execution_count": 25,
   "id": "01328e77",
   "metadata": {},
   "outputs": [
    {
     "data": {
      "text/plain": [
       "[]"
      ]
     },
     "execution_count": 25,
     "metadata": {},
     "output_type": "execute_result"
    },
    {
     "data": {
      "image/png": "[encoded data removed]",
      "text/plain": [
       "<Figure size 1440x720 with 1 Axes>"
      ]
     },
     "metadata": {
      "needs_background": "light"
     },
     "output_type": "display_data"
    }
   ],
   "source": [
    "plt.figure(figsize=(20,10))\n",
    "sns.countplot(ipl[ipl[\"Team\"]!=\"Unsold\"][\"Team\"])\n",
    "plt.xlabel(\"Teams\")\n",
    "plt.ylabel(\"Number of players\")\n",
    "plt.title(\"Players bought by each team\")\n",
    "plt.xticks(rotation=70)\n",
    "plt.plot()"
   ]
  },
  {
   "cell_type": "code",
   "execution_count": 26,
   "id": "956369bf",
   "metadata": {},
   "outputs": [
    {
     "data": {
      "text/plain": [
       "Team\n",
       "Chennai Super Kings             25\n",
       "Delhi Capitals                  24\n",
       "Gujarat Titans                  22\n",
       "Kolkata Knight Riders           25\n",
       "Lucknow Super Giants            22\n",
       "Mumbai Indians                  25\n",
       "Punjab Kings                    25\n",
       "Rajasthan Royals                24\n",
       "Royal Challengers Bangalore     22\n",
       "Sunrisers Hyderabad             23\n",
       "Unsold                         396\n",
       "Name: Player, dtype: int64"
      ]
     },
     "execution_count": 26,
     "metadata": {},
     "output_type": "execute_result"
    }
   ],
   "source": [
    "ipl.groupby(\"Team\")[\"Player\"].count()"
   ]
  },
  {
   "cell_type": "markdown",
   "id": "5720beda",
   "metadata": {},
   "source": [
    "#creating 3 new columns"
   ]
  },
  {
   "cell_type": "code",
   "execution_count": 27,
   "id": "9a82211c",
   "metadata": {},
   "outputs": [
    {
     "data": {
      "text/plain": [
       "0      Draft Pick\n",
       "1      Draft Pick\n",
       "2            2 Cr\n",
       "3         40 Lakh\n",
       "4      Draft Pick\n",
       "          ...    \n",
       "628       20 Lakh\n",
       "629       20 Lakh\n",
       "630       20 Lakh\n",
       "631       20 Lakh\n",
       "632       20 Lakh\n",
       "Name: Base Price, Length: 633, dtype: object"
      ]
     },
     "execution_count": 27,
     "metadata": {},
     "output_type": "execute_result"
    }
   ],
   "source": [
    "ipl[\"Base Price\"]"
   ]
  },
  {
   "cell_type": "code",
   "execution_count": 28,
   "id": "6552386a",
   "metadata": {},
   "outputs": [],
   "source": [
    "ipl[\"Retention\"]=ipl[\"Base Price\"]"
   ]
  },
  {
   "cell_type": "code",
   "execution_count": 29,
   "id": "e5f7eca3",
   "metadata": {},
   "outputs": [],
   "source": [
    "ipl[\"Retention\"].replace(['2 Cr', '40 Lakh', '20 Lakh', '1 Cr', '75 Lakh',\n",
    "       '50 Lakh', '30 Lakh','1.5 Cr'],\"From Auction\",inplace=True)"
   ]
  },
  {
   "cell_type": "code",
   "execution_count": 30,
   "id": "60631d2e",
   "metadata": {},
   "outputs": [
    {
     "data": {
      "text/plain": [
       "0        Draft Pick\n",
       "1        Draft Pick\n",
       "2      From Auction\n",
       "3      From Auction\n",
       "4        Draft Pick\n",
       "           ...     \n",
       "628    From Auction\n",
       "629    From Auction\n",
       "630    From Auction\n",
       "631    From Auction\n",
       "632    From Auction\n",
       "Name: Retention, Length: 633, dtype: object"
      ]
     },
     "execution_count": 30,
     "metadata": {},
     "output_type": "execute_result"
    }
   ],
   "source": [
    "ipl[\"Retention\"]"
   ]
  },
  {
   "cell_type": "code",
   "execution_count": 31,
   "id": "0f496bcf",
   "metadata": {},
   "outputs": [],
   "source": [
    "#treating base price\n",
    "ipl[\"Base Price\"].replace(\"Draft Pick\",0,inplace=True)"
   ]
  },
  {
   "cell_type": "code",
   "execution_count": 32,
   "id": "91217fcd",
   "metadata": {},
   "outputs": [
    {
     "data": {
      "text/plain": [
       "array([0, '2 Cr', '40 Lakh', '20 Lakh', '1 Cr', '75 Lakh', '50 Lakh',\n",
       "       '30 Lakh', 'Retained', '1.5 Cr'], dtype=object)"
      ]
     },
     "execution_count": 32,
     "metadata": {},
     "output_type": "execute_result"
    }
   ],
   "source": [
    "ipl[\"Base Price\"].unique()"
   ]
  },
  {
   "cell_type": "code",
   "execution_count": 33,
   "id": "c44d7f18",
   "metadata": {},
   "outputs": [],
   "source": [
    "ipl[\"Price_value\"]=ipl[\"Base Price\"].apply(lambda x:str(x).split(\" \")[0])\n",
    "ipl[\"Price_value_unit\"]=ipl[\"Base Price\"].apply(lambda x:str(x).split(\" \")[-1])"
   ]
  },
  {
   "cell_type": "code",
   "execution_count": 34,
   "id": "39c04d84",
   "metadata": {},
   "outputs": [
    {
     "data": {
      "text/html": [
       "<div>\n",
       "<style scoped>\n",
       "    .dataframe tbody tr th:only-of-type {\n",
       "        vertical-align: middle;\n",
       "    }\n",
       "\n",
       "    .dataframe tbody tr th {\n",
       "        vertical-align: top;\n",
       "    }\n",
       "\n",
       "    .dataframe thead th {\n",
       "        text-align: right;\n",
       "    }\n",
       "</style>\n",
       "<table border=\"1\" class=\"dataframe\">\n",
       "  <thead>\n",
       "    <tr style=\"text-align: right;\">\n",
       "      <th></th>\n",
       "      <th>Player</th>\n",
       "      <th>Base Price</th>\n",
       "      <th>TYPE</th>\n",
       "      <th>COST IN ₹ (CR.)</th>\n",
       "      <th>Cost IN $ (000)</th>\n",
       "      <th>2021 Squad</th>\n",
       "      <th>Team</th>\n",
       "      <th>Status</th>\n",
       "      <th>Retention</th>\n",
       "      <th>Price_value</th>\n",
       "      <th>Price_value_unit</th>\n",
       "    </tr>\n",
       "  </thead>\n",
       "  <tbody>\n",
       "    <tr>\n",
       "      <th>0</th>\n",
       "      <td>Rashid Khan</td>\n",
       "      <td>0</td>\n",
       "      <td>BOWLER</td>\n",
       "      <td>15.0</td>\n",
       "      <td>1950.0</td>\n",
       "      <td>SRH</td>\n",
       "      <td>Gujarat Titans</td>\n",
       "      <td>sold</td>\n",
       "      <td>Draft Pick</td>\n",
       "      <td>0</td>\n",
       "      <td>0</td>\n",
       "    </tr>\n",
       "    <tr>\n",
       "      <th>1</th>\n",
       "      <td>Hardik Pandya</td>\n",
       "      <td>0</td>\n",
       "      <td>ALL-ROUNDER</td>\n",
       "      <td>15.0</td>\n",
       "      <td>1950.0</td>\n",
       "      <td>MI</td>\n",
       "      <td>Gujarat Titans</td>\n",
       "      <td>sold</td>\n",
       "      <td>Draft Pick</td>\n",
       "      <td>0</td>\n",
       "      <td>0</td>\n",
       "    </tr>\n",
       "    <tr>\n",
       "      <th>2</th>\n",
       "      <td>Lockie Ferguson</td>\n",
       "      <td>2 Cr</td>\n",
       "      <td>BOWLER</td>\n",
       "      <td>10.0</td>\n",
       "      <td>1300.0</td>\n",
       "      <td>KKR</td>\n",
       "      <td>Gujarat Titans</td>\n",
       "      <td>sold</td>\n",
       "      <td>From Auction</td>\n",
       "      <td>2</td>\n",
       "      <td>Cr</td>\n",
       "    </tr>\n",
       "    <tr>\n",
       "      <th>3</th>\n",
       "      <td>Rahul Tewatia</td>\n",
       "      <td>40 Lakh</td>\n",
       "      <td>ALL-ROUNDER</td>\n",
       "      <td>9.0</td>\n",
       "      <td>1170.0</td>\n",
       "      <td>RR</td>\n",
       "      <td>Gujarat Titans</td>\n",
       "      <td>sold</td>\n",
       "      <td>From Auction</td>\n",
       "      <td>40</td>\n",
       "      <td>Lakh</td>\n",
       "    </tr>\n",
       "    <tr>\n",
       "      <th>4</th>\n",
       "      <td>Shubman Gill</td>\n",
       "      <td>0</td>\n",
       "      <td>BATTER</td>\n",
       "      <td>8.0</td>\n",
       "      <td>1040.0</td>\n",
       "      <td>KKR</td>\n",
       "      <td>Gujarat Titans</td>\n",
       "      <td>sold</td>\n",
       "      <td>Draft Pick</td>\n",
       "      <td>0</td>\n",
       "      <td>0</td>\n",
       "    </tr>\n",
       "    <tr>\n",
       "      <th>...</th>\n",
       "      <td>...</td>\n",
       "      <td>...</td>\n",
       "      <td>...</td>\n",
       "      <td>...</td>\n",
       "      <td>...</td>\n",
       "      <td>...</td>\n",
       "      <td>...</td>\n",
       "      <td>...</td>\n",
       "      <td>...</td>\n",
       "      <td>...</td>\n",
       "      <td>...</td>\n",
       "    </tr>\n",
       "    <tr>\n",
       "      <th>628</th>\n",
       "      <td>Sairaj Patil</td>\n",
       "      <td>20 Lakh</td>\n",
       "      <td>BATTER</td>\n",
       "      <td>0.0</td>\n",
       "      <td>0.0</td>\n",
       "      <td>Not participated</td>\n",
       "      <td>Unsold</td>\n",
       "      <td>Unsold</td>\n",
       "      <td>From Auction</td>\n",
       "      <td>20</td>\n",
       "      <td>Lakh</td>\n",
       "    </tr>\n",
       "    <tr>\n",
       "      <th>629</th>\n",
       "      <td>Monu Singh</td>\n",
       "      <td>20 Lakh</td>\n",
       "      <td>BOWLER</td>\n",
       "      <td>0.0</td>\n",
       "      <td>0.0</td>\n",
       "      <td>Not participated</td>\n",
       "      <td>Unsold</td>\n",
       "      <td>Unsold</td>\n",
       "      <td>From Auction</td>\n",
       "      <td>20</td>\n",
       "      <td>Lakh</td>\n",
       "    </tr>\n",
       "    <tr>\n",
       "      <th>630</th>\n",
       "      <td>Nivethan Radhakrishnan</td>\n",
       "      <td>20 Lakh</td>\n",
       "      <td>BOWLER</td>\n",
       "      <td>0.0</td>\n",
       "      <td>0.0</td>\n",
       "      <td>Not participated</td>\n",
       "      <td>Unsold</td>\n",
       "      <td>Unsold</td>\n",
       "      <td>From Auction</td>\n",
       "      <td>20</td>\n",
       "      <td>Lakh</td>\n",
       "    </tr>\n",
       "    <tr>\n",
       "      <th>631</th>\n",
       "      <td>Lance Morris</td>\n",
       "      <td>20 Lakh</td>\n",
       "      <td>BOWLER</td>\n",
       "      <td>0.0</td>\n",
       "      <td>0.0</td>\n",
       "      <td>Not participated</td>\n",
       "      <td>Unsold</td>\n",
       "      <td>Unsold</td>\n",
       "      <td>From Auction</td>\n",
       "      <td>20</td>\n",
       "      <td>Lakh</td>\n",
       "    </tr>\n",
       "    <tr>\n",
       "      <th>632</th>\n",
       "      <td>Aaron Hardie</td>\n",
       "      <td>20 Lakh</td>\n",
       "      <td>ALL-ROUNDER</td>\n",
       "      <td>0.0</td>\n",
       "      <td>0.0</td>\n",
       "      <td>Not participated</td>\n",
       "      <td>Unsold</td>\n",
       "      <td>Unsold</td>\n",
       "      <td>From Auction</td>\n",
       "      <td>20</td>\n",
       "      <td>Lakh</td>\n",
       "    </tr>\n",
       "  </tbody>\n",
       "</table>\n",
       "<p>633 rows × 11 columns</p>\n",
       "</div>"
      ],
      "text/plain": [
       "                     Player Base Price         TYPE  COST IN ₹ (CR.)  \\\n",
       "0               Rashid Khan          0       BOWLER             15.0   \n",
       "1             Hardik Pandya          0  ALL-ROUNDER             15.0   \n",
       "2           Lockie Ferguson       2 Cr       BOWLER             10.0   \n",
       "3             Rahul Tewatia    40 Lakh  ALL-ROUNDER              9.0   \n",
       "4              Shubman Gill          0       BATTER              8.0   \n",
       "..                      ...        ...          ...              ...   \n",
       "628            Sairaj Patil    20 Lakh       BATTER              0.0   \n",
       "629              Monu Singh    20 Lakh       BOWLER              0.0   \n",
       "630  Nivethan Radhakrishnan    20 Lakh       BOWLER              0.0   \n",
       "631            Lance Morris    20 Lakh       BOWLER              0.0   \n",
       "632            Aaron Hardie    20 Lakh  ALL-ROUNDER              0.0   \n",
       "\n",
       "     Cost IN $ (000)        2021 Squad            Team  Status     Retention  \\\n",
       "0             1950.0               SRH  Gujarat Titans    sold    Draft Pick   \n",
       "1             1950.0                MI  Gujarat Titans    sold    Draft Pick   \n",
       "2             1300.0               KKR  Gujarat Titans    sold  From Auction   \n",
       "3             1170.0                RR  Gujarat Titans    sold  From Auction   \n",
       "4             1040.0               KKR  Gujarat Titans    sold    Draft Pick   \n",
       "..               ...               ...             ...     ...           ...   \n",
       "628              0.0  Not participated          Unsold  Unsold  From Auction   \n",
       "629              0.0  Not participated          Unsold  Unsold  From Auction   \n",
       "630              0.0  Not participated          Unsold  Unsold  From Auction   \n",
       "631              0.0  Not participated          Unsold  Unsold  From Auction   \n",
       "632              0.0  Not participated          Unsold  Unsold  From Auction   \n",
       "\n",
       "    Price_value Price_value_unit  \n",
       "0             0                0  \n",
       "1             0                0  \n",
       "2             2               Cr  \n",
       "3            40             Lakh  \n",
       "4             0                0  \n",
       "..          ...              ...  \n",
       "628          20             Lakh  \n",
       "629          20             Lakh  \n",
       "630          20             Lakh  \n",
       "631          20             Lakh  \n",
       "632          20             Lakh  \n",
       "\n",
       "[633 rows x 11 columns]"
      ]
     },
     "execution_count": 34,
     "metadata": {},
     "output_type": "execute_result"
    }
   ],
   "source": [
    "ipl"
   ]
  },
  {
   "cell_type": "code",
   "execution_count": 35,
   "id": "0ff5a94f",
   "metadata": {},
   "outputs": [],
   "source": [
    "ipl[\"Price_value\"].replace(\"Retained\",0,inplace=True)"
   ]
  },
  {
   "cell_type": "code",
   "execution_count": 36,
   "id": "d656d41d",
   "metadata": {},
   "outputs": [
    {
     "data": {
      "text/html": [
       "<div>\n",
       "<style scoped>\n",
       "    .dataframe tbody tr th:only-of-type {\n",
       "        vertical-align: middle;\n",
       "    }\n",
       "\n",
       "    .dataframe tbody tr th {\n",
       "        vertical-align: top;\n",
       "    }\n",
       "\n",
       "    .dataframe thead th {\n",
       "        text-align: right;\n",
       "    }\n",
       "</style>\n",
       "<table border=\"1\" class=\"dataframe\">\n",
       "  <thead>\n",
       "    <tr style=\"text-align: right;\">\n",
       "      <th></th>\n",
       "      <th>Player</th>\n",
       "      <th>Base Price</th>\n",
       "      <th>TYPE</th>\n",
       "      <th>COST IN ₹ (CR.)</th>\n",
       "      <th>Cost IN $ (000)</th>\n",
       "      <th>2021 Squad</th>\n",
       "      <th>Team</th>\n",
       "      <th>Status</th>\n",
       "      <th>Retention</th>\n",
       "      <th>Price_value</th>\n",
       "      <th>Price_value_unit</th>\n",
       "    </tr>\n",
       "  </thead>\n",
       "  <tbody>\n",
       "    <tr>\n",
       "      <th>0</th>\n",
       "      <td>Rashid Khan</td>\n",
       "      <td>0</td>\n",
       "      <td>BOWLER</td>\n",
       "      <td>15.0</td>\n",
       "      <td>1950.0</td>\n",
       "      <td>SRH</td>\n",
       "      <td>Gujarat Titans</td>\n",
       "      <td>sold</td>\n",
       "      <td>Draft Pick</td>\n",
       "      <td>0</td>\n",
       "      <td>0</td>\n",
       "    </tr>\n",
       "    <tr>\n",
       "      <th>1</th>\n",
       "      <td>Hardik Pandya</td>\n",
       "      <td>0</td>\n",
       "      <td>ALL-ROUNDER</td>\n",
       "      <td>15.0</td>\n",
       "      <td>1950.0</td>\n",
       "      <td>MI</td>\n",
       "      <td>Gujarat Titans</td>\n",
       "      <td>sold</td>\n",
       "      <td>Draft Pick</td>\n",
       "      <td>0</td>\n",
       "      <td>0</td>\n",
       "    </tr>\n",
       "    <tr>\n",
       "      <th>2</th>\n",
       "      <td>Lockie Ferguson</td>\n",
       "      <td>2 Cr</td>\n",
       "      <td>BOWLER</td>\n",
       "      <td>10.0</td>\n",
       "      <td>1300.0</td>\n",
       "      <td>KKR</td>\n",
       "      <td>Gujarat Titans</td>\n",
       "      <td>sold</td>\n",
       "      <td>From Auction</td>\n",
       "      <td>2</td>\n",
       "      <td>Cr</td>\n",
       "    </tr>\n",
       "    <tr>\n",
       "      <th>3</th>\n",
       "      <td>Rahul Tewatia</td>\n",
       "      <td>40 Lakh</td>\n",
       "      <td>ALL-ROUNDER</td>\n",
       "      <td>9.0</td>\n",
       "      <td>1170.0</td>\n",
       "      <td>RR</td>\n",
       "      <td>Gujarat Titans</td>\n",
       "      <td>sold</td>\n",
       "      <td>From Auction</td>\n",
       "      <td>40</td>\n",
       "      <td>Lakh</td>\n",
       "    </tr>\n",
       "    <tr>\n",
       "      <th>4</th>\n",
       "      <td>Shubman Gill</td>\n",
       "      <td>0</td>\n",
       "      <td>BATTER</td>\n",
       "      <td>8.0</td>\n",
       "      <td>1040.0</td>\n",
       "      <td>KKR</td>\n",
       "      <td>Gujarat Titans</td>\n",
       "      <td>sold</td>\n",
       "      <td>Draft Pick</td>\n",
       "      <td>0</td>\n",
       "      <td>0</td>\n",
       "    </tr>\n",
       "  </tbody>\n",
       "</table>\n",
       "</div>"
      ],
      "text/plain": [
       "            Player Base Price         TYPE  COST IN ₹ (CR.)  Cost IN $ (000)  \\\n",
       "0      Rashid Khan          0       BOWLER             15.0           1950.0   \n",
       "1    Hardik Pandya          0  ALL-ROUNDER             15.0           1950.0   \n",
       "2  Lockie Ferguson       2 Cr       BOWLER             10.0           1300.0   \n",
       "3    Rahul Tewatia    40 Lakh  ALL-ROUNDER              9.0           1170.0   \n",
       "4     Shubman Gill          0       BATTER              8.0           1040.0   \n",
       "\n",
       "  2021 Squad            Team Status     Retention Price_value Price_value_unit  \n",
       "0        SRH  Gujarat Titans   sold    Draft Pick           0                0  \n",
       "1         MI  Gujarat Titans   sold    Draft Pick           0                0  \n",
       "2        KKR  Gujarat Titans   sold  From Auction           2               Cr  \n",
       "3         RR  Gujarat Titans   sold  From Auction          40             Lakh  \n",
       "4        KKR  Gujarat Titans   sold    Draft Pick           0                0  "
      ]
     },
     "execution_count": 36,
     "metadata": {},
     "output_type": "execute_result"
    }
   ],
   "source": [
    "ipl.head()"
   ]
  },
  {
   "cell_type": "code",
   "execution_count": 37,
   "id": "d38487fc",
   "metadata": {},
   "outputs": [
    {
     "data": {
      "text/plain": [
       "Team                         Retention   \n",
       "Chennai Super Kings          From Auction     21\n",
       "                             Retained          4\n",
       "Delhi Capitals               From Auction     20\n",
       "                             Retained          4\n",
       "Gujarat Titans               Draft Pick        3\n",
       "                             From Auction     19\n",
       "Kolkata Knight Riders        From Auction     21\n",
       "                             Retained          4\n",
       "Lucknow Super Giants         Draft Pick        3\n",
       "                             From Auction     19\n",
       "Mumbai Indians               From Auction     21\n",
       "                             Retained          4\n",
       "Punjab Kings                 From Auction     23\n",
       "                             Retained          2\n",
       "Rajasthan Royals             From Auction     21\n",
       "                             Retained          3\n",
       "Royal Challengers Bangalore  From Auction     19\n",
       "                             Retained          3\n",
       "Sunrisers Hyderabad          From Auction     20\n",
       "                             Retained          3\n",
       "Unsold                       From Auction    396\n",
       "Name: Player, dtype: int64"
      ]
     },
     "execution_count": 37,
     "metadata": {},
     "output_type": "execute_result"
    }
   ],
   "source": [
    "#total player retained nad bought\n",
    "ipl.groupby([\"Team\",\"Retention\"])[\"Player\"].count()"
   ]
  },
  {
   "cell_type": "code",
   "execution_count": 38,
   "id": "2e8ca78d",
   "metadata": {},
   "outputs": [
    {
     "data": {
      "text/plain": [
       "[]"
      ]
     },
     "execution_count": 38,
     "metadata": {},
     "output_type": "execute_result"
    },
    {
     "data": {
      "image/png": "[encoded data removed]",
      "text/plain": [
       "<Figure size 1440x720 with 1 Axes>"
      ]
     },
     "metadata": {
      "needs_background": "light"
     },
     "output_type": "display_data"
    }
   ],
   "source": [
    "plt.figure(figsize=(20,10))\n",
    "sns.countplot(ipl[ipl[\"Team\"]!=\"Unsold\"][\"Team\"],hue=ipl[\"TYPE\"])\n",
    "plt.xlabel(\"Teams\")\n",
    "plt.ylabel(\"Number of players\")\n",
    "plt.title(\"types of Players in teams\")\n",
    "plt.xticks(rotation=70)\n",
    "plt.plot()"
   ]
  },
  {
   "cell_type": "code",
   "execution_count": 39,
   "id": "533d6fe5",
   "metadata": {},
   "outputs": [
    {
     "data": {
      "text/plain": [
       "Team                         TYPE        \n",
       "Chennai Super Kings          ALL-ROUNDER      9\n",
       "                             BATTER           5\n",
       "                             BOWLER           8\n",
       "                             WICKETKEEPER     3\n",
       "Delhi Capitals               ALL-ROUNDER      9\n",
       "                             BATTER           5\n",
       "                             BOWLER           7\n",
       "                             WICKETKEEPER     3\n",
       "Gujarat Titans               ALL-ROUNDER      8\n",
       "                             BATTER           4\n",
       "                             BOWLER           8\n",
       "                             WICKETKEEPER     2\n",
       "Kolkata Knight Riders        ALL-ROUNDER     10\n",
       "                             BATTER           7\n",
       "                             BOWLER           5\n",
       "                             WICKETKEEPER     3\n",
       "Lucknow Super Giants         ALL-ROUNDER      9\n",
       "                             BATTER           3\n",
       "                             BOWLER           8\n",
       "                             WICKETKEEPER     2\n",
       "Mumbai Indians               ALL-ROUNDER     11\n",
       "                             BATTER           5\n",
       "                             BOWLER           7\n",
       "                             WICKETKEEPER     2\n",
       "Punjab Kings                 ALL-ROUNDER     11\n",
       "                             BATTER           3\n",
       "                             BOWLER           8\n",
       "                             WICKETKEEPER     3\n",
       "Rajasthan Royals             ALL-ROUNDER      6\n",
       "                             BATTER           5\n",
       "                             BOWLER          10\n",
       "                             WICKETKEEPER     3\n",
       "Royal Challengers Bangalore  ALL-ROUNDER      9\n",
       "                             BATTER           3\n",
       "                             BOWLER           7\n",
       "                             WICKETKEEPER     3\n",
       "Sunrisers Hyderabad          ALL-ROUNDER      6\n",
       "                             BATTER           5\n",
       "                             BOWLER           9\n",
       "                             WICKETKEEPER     3\n",
       "Name: Player, dtype: int64"
      ]
     },
     "execution_count": 39,
     "metadata": {},
     "output_type": "execute_result"
    }
   ],
   "source": [
    "ipl.groupby([ipl[ipl[\"Team\"]!=\"Unsold\"][\"Team\"],\"TYPE\"])[\"Player\"].count()"
   ]
  },
  {
   "cell_type": "code",
   "execution_count": 40,
   "id": "442f5c04",
   "metadata": {},
   "outputs": [
    {
     "data": {
      "text/plain": [
       "Team\n",
       "Mumbai Indians                 15.25\n",
       "Chennai Super Kings            14.00\n",
       "Kolkata Knight Riders          12.25\n",
       "Punjab Kings                   11.50\n",
       "Delhi Capitals                 10.75\n",
       "Royal Challengers Bangalore    10.75\n",
       "Sunrisers Hyderabad            10.75\n",
       "Gujarat Titans                 10.00\n",
       "Lucknow Super Giants           10.00\n",
       "Rajasthan Royals               10.00\n",
       "Name: COST IN ₹ (CR.), dtype: float64"
      ]
     },
     "execution_count": 40,
     "metadata": {},
     "output_type": "execute_result"
    }
   ],
   "source": [
    "#Highest amount spent on single person by each team(not retained players)\n",
    "ipl[ipl[\"Retention\"]==\"From Auction\"].groupby([\"Team\"])[\"COST IN ₹ (CR.)\"].max()[:-1].sort_values(ascending=False)"
   ]
  },
  {
   "cell_type": "code",
   "execution_count": 41,
   "id": "25070707",
   "metadata": {},
   "outputs": [],
   "source": [
    "#player retained at maximum price\n"
   ]
  },
  {
   "cell_type": "code",
   "execution_count": 42,
   "id": "fcd028d9",
   "metadata": {},
   "outputs": [
    {
     "data": {
      "text/html": [
       "<div>\n",
       "<style scoped>\n",
       "    .dataframe tbody tr th:only-of-type {\n",
       "        vertical-align: middle;\n",
       "    }\n",
       "\n",
       "    .dataframe tbody tr th {\n",
       "        vertical-align: top;\n",
       "    }\n",
       "\n",
       "    .dataframe thead th {\n",
       "        text-align: right;\n",
       "    }\n",
       "</style>\n",
       "<table border=\"1\" class=\"dataframe\">\n",
       "  <thead>\n",
       "    <tr style=\"text-align: right;\">\n",
       "      <th></th>\n",
       "      <th>Player</th>\n",
       "      <th>Base Price</th>\n",
       "      <th>TYPE</th>\n",
       "      <th>COST IN ₹ (CR.)</th>\n",
       "      <th>Cost IN $ (000)</th>\n",
       "      <th>2021 Squad</th>\n",
       "      <th>Team</th>\n",
       "      <th>Status</th>\n",
       "      <th>Retention</th>\n",
       "      <th>Price_value</th>\n",
       "      <th>Price_value_unit</th>\n",
       "    </tr>\n",
       "  </thead>\n",
       "  <tbody>\n",
       "    <tr>\n",
       "      <th>22</th>\n",
       "      <td>Ravindra Jadeja</td>\n",
       "      <td>Retained</td>\n",
       "      <td>ALL-ROUNDER</td>\n",
       "      <td>16.0</td>\n",
       "      <td>2080.0</td>\n",
       "      <td>CSK</td>\n",
       "      <td>Chennai Super Kings</td>\n",
       "      <td>sold</td>\n",
       "      <td>Retained</td>\n",
       "      <td>0</td>\n",
       "      <td>Retained</td>\n",
       "    </tr>\n",
       "  </tbody>\n",
       "</table>\n",
       "</div>"
      ],
      "text/plain": [
       "             Player Base Price         TYPE  COST IN ₹ (CR.)  Cost IN $ (000)  \\\n",
       "22  Ravindra Jadeja   Retained  ALL-ROUNDER             16.0           2080.0   \n",
       "\n",
       "   2021 Squad                 Team Status Retention Price_value  \\\n",
       "22        CSK  Chennai Super Kings   sold  Retained           0   \n",
       "\n",
       "   Price_value_unit  \n",
       "22         Retained  "
      ]
     },
     "execution_count": 42,
     "metadata": {},
     "output_type": "execute_result"
    }
   ],
   "source": [
    "ipl[ipl[\"Retention\"]==\"Retained\"].sort_values(by=\"COST IN ₹ (CR.)\",ascending=False).head(1)"
   ]
  },
  {
   "cell_type": "code",
   "execution_count": 43,
   "id": "941c5798",
   "metadata": {},
   "outputs": [],
   "source": [
    "#top 5 bowlers by price"
   ]
  },
  {
   "cell_type": "code",
   "execution_count": 44,
   "id": "d632a3a5",
   "metadata": {},
   "outputs": [
    {
     "data": {
      "text/html": [
       "<div>\n",
       "<style scoped>\n",
       "    .dataframe tbody tr th:only-of-type {\n",
       "        vertical-align: middle;\n",
       "    }\n",
       "\n",
       "    .dataframe tbody tr th {\n",
       "        vertical-align: top;\n",
       "    }\n",
       "\n",
       "    .dataframe thead th {\n",
       "        text-align: right;\n",
       "    }\n",
       "</style>\n",
       "<table border=\"1\" class=\"dataframe\">\n",
       "  <thead>\n",
       "    <tr style=\"text-align: right;\">\n",
       "      <th></th>\n",
       "      <th>Player</th>\n",
       "      <th>Base Price</th>\n",
       "      <th>TYPE</th>\n",
       "      <th>COST IN ₹ (CR.)</th>\n",
       "      <th>Cost IN $ (000)</th>\n",
       "      <th>2021 Squad</th>\n",
       "      <th>Team</th>\n",
       "      <th>Status</th>\n",
       "      <th>Retention</th>\n",
       "      <th>Price_value</th>\n",
       "      <th>Price_value_unit</th>\n",
       "    </tr>\n",
       "  </thead>\n",
       "  <tbody>\n",
       "    <tr>\n",
       "      <th>23</th>\n",
       "      <td>Deepak Chahar</td>\n",
       "      <td>2 Cr</td>\n",
       "      <td>BOWLER</td>\n",
       "      <td>14.00</td>\n",
       "      <td>1820.0</td>\n",
       "      <td>CSK</td>\n",
       "      <td>Chennai Super Kings</td>\n",
       "      <td>sold</td>\n",
       "      <td>From Auction</td>\n",
       "      <td>2</td>\n",
       "      <td>Cr</td>\n",
       "    </tr>\n",
       "    <tr>\n",
       "      <th>48</th>\n",
       "      <td>Shardul Thakur</td>\n",
       "      <td>2 Cr</td>\n",
       "      <td>BOWLER</td>\n",
       "      <td>10.75</td>\n",
       "      <td>1397.5</td>\n",
       "      <td>CSK</td>\n",
       "      <td>Delhi Capitals</td>\n",
       "      <td>sold</td>\n",
       "      <td>From Auction</td>\n",
       "      <td>2</td>\n",
       "      <td>Cr</td>\n",
       "    </tr>\n",
       "    <tr>\n",
       "      <th>192</th>\n",
       "      <td>Prasidh Krishna</td>\n",
       "      <td>1 Cr</td>\n",
       "      <td>BOWLER</td>\n",
       "      <td>10.00</td>\n",
       "      <td>1300.0</td>\n",
       "      <td>KKR</td>\n",
       "      <td>Rajasthan Royals</td>\n",
       "      <td>sold</td>\n",
       "      <td>From Auction</td>\n",
       "      <td>1</td>\n",
       "      <td>Cr</td>\n",
       "    </tr>\n",
       "    <tr>\n",
       "      <th>2</th>\n",
       "      <td>Lockie Ferguson</td>\n",
       "      <td>2 Cr</td>\n",
       "      <td>BOWLER</td>\n",
       "      <td>10.00</td>\n",
       "      <td>1300.0</td>\n",
       "      <td>KKR</td>\n",
       "      <td>Gujarat Titans</td>\n",
       "      <td>sold</td>\n",
       "      <td>From Auction</td>\n",
       "      <td>2</td>\n",
       "      <td>Cr</td>\n",
       "    </tr>\n",
       "    <tr>\n",
       "      <th>122</th>\n",
       "      <td>Avesh Khan</td>\n",
       "      <td>20 Lakh</td>\n",
       "      <td>BOWLER</td>\n",
       "      <td>10.00</td>\n",
       "      <td>1300.0</td>\n",
       "      <td>DC</td>\n",
       "      <td>Lucknow Super Giants</td>\n",
       "      <td>sold</td>\n",
       "      <td>From Auction</td>\n",
       "      <td>20</td>\n",
       "      <td>Lakh</td>\n",
       "    </tr>\n",
       "  </tbody>\n",
       "</table>\n",
       "</div>"
      ],
      "text/plain": [
       "              Player Base Price    TYPE  COST IN ₹ (CR.)  Cost IN $ (000)  \\\n",
       "23     Deepak Chahar       2 Cr  BOWLER            14.00           1820.0   \n",
       "48    Shardul Thakur       2 Cr  BOWLER            10.75           1397.5   \n",
       "192  Prasidh Krishna       1 Cr  BOWLER            10.00           1300.0   \n",
       "2    Lockie Ferguson       2 Cr  BOWLER            10.00           1300.0   \n",
       "122       Avesh Khan    20 Lakh  BOWLER            10.00           1300.0   \n",
       "\n",
       "    2021 Squad                  Team Status     Retention Price_value  \\\n",
       "23         CSK   Chennai Super Kings   sold  From Auction           2   \n",
       "48         CSK        Delhi Capitals   sold  From Auction           2   \n",
       "192        KKR      Rajasthan Royals   sold  From Auction           1   \n",
       "2          KKR        Gujarat Titans   sold  From Auction           2   \n",
       "122         DC  Lucknow Super Giants   sold  From Auction          20   \n",
       "\n",
       "    Price_value_unit  \n",
       "23                Cr  \n",
       "48                Cr  \n",
       "192               Cr  \n",
       "2                 Cr  \n",
       "122             Lakh  "
      ]
     },
     "execution_count": 44,
     "metadata": {},
     "output_type": "execute_result"
    }
   ],
   "source": [
    "ipl[(ipl[\"Retention\"]==\"From Auction\") & (ipl[\"TYPE\"]==\"BOWLER\")].sort_values(by=\"COST IN ₹ (CR.)\",ascending=False).head(5)"
   ]
  },
  {
   "cell_type": "code",
   "execution_count": 45,
   "id": "471ee963",
   "metadata": {},
   "outputs": [],
   "source": [
    "#top 5 Batter by price"
   ]
  },
  {
   "cell_type": "code",
   "execution_count": 46,
   "id": "f2825e01",
   "metadata": {},
   "outputs": [
    {
     "data": {
      "text/html": [
       "<div>\n",
       "<style scoped>\n",
       "    .dataframe tbody tr th:only-of-type {\n",
       "        vertical-align: middle;\n",
       "    }\n",
       "\n",
       "    .dataframe tbody tr th {\n",
       "        vertical-align: top;\n",
       "    }\n",
       "\n",
       "    .dataframe thead th {\n",
       "        text-align: right;\n",
       "    }\n",
       "</style>\n",
       "<table border=\"1\" class=\"dataframe\">\n",
       "  <thead>\n",
       "    <tr style=\"text-align: right;\">\n",
       "      <th></th>\n",
       "      <th>Player</th>\n",
       "      <th>Base Price</th>\n",
       "      <th>TYPE</th>\n",
       "      <th>COST IN ₹ (CR.)</th>\n",
       "      <th>Cost IN $ (000)</th>\n",
       "      <th>2021 Squad</th>\n",
       "      <th>Team</th>\n",
       "      <th>Status</th>\n",
       "      <th>Retention</th>\n",
       "      <th>Price_value</th>\n",
       "      <th>Price_value_unit</th>\n",
       "    </tr>\n",
       "  </thead>\n",
       "  <tbody>\n",
       "    <tr>\n",
       "      <th>71</th>\n",
       "      <td>Shreyas Iyer</td>\n",
       "      <td>2 Cr</td>\n",
       "      <td>BATTER</td>\n",
       "      <td>12.25</td>\n",
       "      <td>1592.5</td>\n",
       "      <td>DC</td>\n",
       "      <td>Kolkata Knight Riders</td>\n",
       "      <td>sold</td>\n",
       "      <td>From Auction</td>\n",
       "      <td>2</td>\n",
       "      <td>Cr</td>\n",
       "    </tr>\n",
       "    <tr>\n",
       "      <th>193</th>\n",
       "      <td>Shimron Hetmyer</td>\n",
       "      <td>1.5 Cr</td>\n",
       "      <td>BATTER</td>\n",
       "      <td>8.50</td>\n",
       "      <td>1105.0</td>\n",
       "      <td>DC</td>\n",
       "      <td>Rajasthan Royals</td>\n",
       "      <td>sold</td>\n",
       "      <td>From Auction</td>\n",
       "      <td>1.5</td>\n",
       "      <td>Cr</td>\n",
       "    </tr>\n",
       "    <tr>\n",
       "      <th>217</th>\n",
       "      <td>Rahul Tripathi</td>\n",
       "      <td>40 Lakh</td>\n",
       "      <td>BATTER</td>\n",
       "      <td>8.50</td>\n",
       "      <td>1105.0</td>\n",
       "      <td>KKR</td>\n",
       "      <td>Sunrisers Hyderabad</td>\n",
       "      <td>sold</td>\n",
       "      <td>From Auction</td>\n",
       "      <td>40</td>\n",
       "      <td>Lakh</td>\n",
       "    </tr>\n",
       "    <tr>\n",
       "      <th>100</th>\n",
       "      <td>Shikhar Dhawan</td>\n",
       "      <td>2 Cr</td>\n",
       "      <td>BATTER</td>\n",
       "      <td>8.25</td>\n",
       "      <td>1072.5</td>\n",
       "      <td>DC</td>\n",
       "      <td>Punjab Kings</td>\n",
       "      <td>sold</td>\n",
       "      <td>From Auction</td>\n",
       "      <td>2</td>\n",
       "      <td>Cr</td>\n",
       "    </tr>\n",
       "    <tr>\n",
       "      <th>195</th>\n",
       "      <td>Devdutt Padikkal</td>\n",
       "      <td>2 Cr</td>\n",
       "      <td>BATTER</td>\n",
       "      <td>7.75</td>\n",
       "      <td>1007.5</td>\n",
       "      <td>RCB</td>\n",
       "      <td>Rajasthan Royals</td>\n",
       "      <td>sold</td>\n",
       "      <td>From Auction</td>\n",
       "      <td>2</td>\n",
       "      <td>Cr</td>\n",
       "    </tr>\n",
       "  </tbody>\n",
       "</table>\n",
       "</div>"
      ],
      "text/plain": [
       "               Player Base Price    TYPE  COST IN ₹ (CR.)  Cost IN $ (000)  \\\n",
       "71       Shreyas Iyer       2 Cr  BATTER            12.25           1592.5   \n",
       "193   Shimron Hetmyer     1.5 Cr  BATTER             8.50           1105.0   \n",
       "217    Rahul Tripathi    40 Lakh  BATTER             8.50           1105.0   \n",
       "100    Shikhar Dhawan       2 Cr  BATTER             8.25           1072.5   \n",
       "195  Devdutt Padikkal       2 Cr  BATTER             7.75           1007.5   \n",
       "\n",
       "    2021 Squad                   Team Status     Retention Price_value  \\\n",
       "71          DC  Kolkata Knight Riders   sold  From Auction           2   \n",
       "193         DC       Rajasthan Royals   sold  From Auction         1.5   \n",
       "217        KKR    Sunrisers Hyderabad   sold  From Auction          40   \n",
       "100         DC           Punjab Kings   sold  From Auction           2   \n",
       "195        RCB       Rajasthan Royals   sold  From Auction           2   \n",
       "\n",
       "    Price_value_unit  \n",
       "71                Cr  \n",
       "193               Cr  \n",
       "217             Lakh  \n",
       "100               Cr  \n",
       "195               Cr  "
      ]
     },
     "execution_count": 46,
     "metadata": {},
     "output_type": "execute_result"
    }
   ],
   "source": [
    "ipl[(ipl[\"Retention\"]==\"From Auction\") & (ipl[\"TYPE\"]==\"BATTER\")].sort_values(by=\"COST IN ₹ (CR.)\",ascending=False).head(5)"
   ]
  },
  {
   "cell_type": "code",
   "execution_count": 47,
   "id": "e67073ea",
   "metadata": {},
   "outputs": [],
   "source": [
    "#top 5 allrounder by price"
   ]
  },
  {
   "cell_type": "code",
   "execution_count": 48,
   "id": "e7648787",
   "metadata": {},
   "outputs": [
    {
     "data": {
      "text/html": [
       "<div>\n",
       "<style scoped>\n",
       "    .dataframe tbody tr th:only-of-type {\n",
       "        vertical-align: middle;\n",
       "    }\n",
       "\n",
       "    .dataframe tbody tr th {\n",
       "        vertical-align: top;\n",
       "    }\n",
       "\n",
       "    .dataframe thead th {\n",
       "        text-align: right;\n",
       "    }\n",
       "</style>\n",
       "<table border=\"1\" class=\"dataframe\">\n",
       "  <thead>\n",
       "    <tr style=\"text-align: right;\">\n",
       "      <th></th>\n",
       "      <th>Player</th>\n",
       "      <th>Base Price</th>\n",
       "      <th>TYPE</th>\n",
       "      <th>COST IN ₹ (CR.)</th>\n",
       "      <th>Cost IN $ (000)</th>\n",
       "      <th>2021 Squad</th>\n",
       "      <th>Team</th>\n",
       "      <th>Status</th>\n",
       "      <th>Retention</th>\n",
       "      <th>Price_value</th>\n",
       "      <th>Price_value_unit</th>\n",
       "    </tr>\n",
       "  </thead>\n",
       "  <tbody>\n",
       "    <tr>\n",
       "      <th>97</th>\n",
       "      <td>Liam Livingstone</td>\n",
       "      <td>1 Cr</td>\n",
       "      <td>ALL-ROUNDER</td>\n",
       "      <td>11.50</td>\n",
       "      <td>1495.0</td>\n",
       "      <td>RR</td>\n",
       "      <td>Punjab Kings</td>\n",
       "      <td>sold</td>\n",
       "      <td>From Auction</td>\n",
       "      <td>1</td>\n",
       "      <td>Cr</td>\n",
       "    </tr>\n",
       "    <tr>\n",
       "      <th>170</th>\n",
       "      <td>Wanindu Hasaranga</td>\n",
       "      <td>1 Cr</td>\n",
       "      <td>ALL-ROUNDER</td>\n",
       "      <td>10.75</td>\n",
       "      <td>1397.5</td>\n",
       "      <td>RCB</td>\n",
       "      <td>Royal Challengers Bangalore</td>\n",
       "      <td>sold</td>\n",
       "      <td>From Auction</td>\n",
       "      <td>1</td>\n",
       "      <td>Cr</td>\n",
       "    </tr>\n",
       "    <tr>\n",
       "      <th>171</th>\n",
       "      <td>Harshal Patel</td>\n",
       "      <td>2 Cr</td>\n",
       "      <td>ALL-ROUNDER</td>\n",
       "      <td>10.75</td>\n",
       "      <td>1397.5</td>\n",
       "      <td>RCB</td>\n",
       "      <td>Royal Challengers Bangalore</td>\n",
       "      <td>sold</td>\n",
       "      <td>From Auction</td>\n",
       "      <td>2</td>\n",
       "      <td>Cr</td>\n",
       "    </tr>\n",
       "    <tr>\n",
       "      <th>99</th>\n",
       "      <td>Shahrukh Khan</td>\n",
       "      <td>40 Lakh</td>\n",
       "      <td>ALL-ROUNDER</td>\n",
       "      <td>9.00</td>\n",
       "      <td>1170.0</td>\n",
       "      <td>PBKS</td>\n",
       "      <td>Punjab Kings</td>\n",
       "      <td>sold</td>\n",
       "      <td>From Auction</td>\n",
       "      <td>40</td>\n",
       "      <td>Lakh</td>\n",
       "    </tr>\n",
       "    <tr>\n",
       "      <th>3</th>\n",
       "      <td>Rahul Tewatia</td>\n",
       "      <td>40 Lakh</td>\n",
       "      <td>ALL-ROUNDER</td>\n",
       "      <td>9.00</td>\n",
       "      <td>1170.0</td>\n",
       "      <td>RR</td>\n",
       "      <td>Gujarat Titans</td>\n",
       "      <td>sold</td>\n",
       "      <td>From Auction</td>\n",
       "      <td>40</td>\n",
       "      <td>Lakh</td>\n",
       "    </tr>\n",
       "  </tbody>\n",
       "</table>\n",
       "</div>"
      ],
      "text/plain": [
       "                Player Base Price         TYPE  COST IN ₹ (CR.)  \\\n",
       "97    Liam Livingstone       1 Cr  ALL-ROUNDER            11.50   \n",
       "170  Wanindu Hasaranga       1 Cr  ALL-ROUNDER            10.75   \n",
       "171      Harshal Patel       2 Cr  ALL-ROUNDER            10.75   \n",
       "99       Shahrukh Khan    40 Lakh  ALL-ROUNDER             9.00   \n",
       "3        Rahul Tewatia    40 Lakh  ALL-ROUNDER             9.00   \n",
       "\n",
       "     Cost IN $ (000) 2021 Squad                         Team Status  \\\n",
       "97            1495.0         RR                 Punjab Kings   sold   \n",
       "170           1397.5        RCB  Royal Challengers Bangalore   sold   \n",
       "171           1397.5        RCB  Royal Challengers Bangalore   sold   \n",
       "99            1170.0       PBKS                 Punjab Kings   sold   \n",
       "3             1170.0         RR               Gujarat Titans   sold   \n",
       "\n",
       "        Retention Price_value Price_value_unit  \n",
       "97   From Auction           1               Cr  \n",
       "170  From Auction           1               Cr  \n",
       "171  From Auction           2               Cr  \n",
       "99   From Auction          40             Lakh  \n",
       "3    From Auction          40             Lakh  "
      ]
     },
     "execution_count": 48,
     "metadata": {},
     "output_type": "execute_result"
    }
   ],
   "source": [
    "ipl[(ipl[\"Retention\"]==\"From Auction\") & (ipl[\"TYPE\"]==\"ALL-ROUNDER\")].sort_values(by=\"COST IN ₹ (CR.)\",ascending=False).head(5)"
   ]
  },
  {
   "cell_type": "code",
   "execution_count": 49,
   "id": "3290e63c",
   "metadata": {},
   "outputs": [],
   "source": [
    "# player not picked in this Auction\n",
    "#ipl= ipl.rename(columns={\"2021 squad\":\"Prev_team\"})"
   ]
  },
  {
   "cell_type": "code",
   "execution_count": 50,
   "id": "2393a5f2",
   "metadata": {},
   "outputs": [
    {
     "data": {
      "text/html": [
       "<div>\n",
       "<style scoped>\n",
       "    .dataframe tbody tr th:only-of-type {\n",
       "        vertical-align: middle;\n",
       "    }\n",
       "\n",
       "    .dataframe tbody tr th {\n",
       "        vertical-align: top;\n",
       "    }\n",
       "\n",
       "    .dataframe thead th {\n",
       "        text-align: right;\n",
       "    }\n",
       "</style>\n",
       "<table border=\"1\" class=\"dataframe\">\n",
       "  <thead>\n",
       "    <tr style=\"text-align: right;\">\n",
       "      <th></th>\n",
       "      <th>Player</th>\n",
       "      <th>Base Price</th>\n",
       "      <th>TYPE</th>\n",
       "      <th>COST IN ₹ (CR.)</th>\n",
       "      <th>Cost IN $ (000)</th>\n",
       "      <th>2021 Squad</th>\n",
       "      <th>Team</th>\n",
       "      <th>Status</th>\n",
       "      <th>Retention</th>\n",
       "      <th>Price_value</th>\n",
       "      <th>Price_value_unit</th>\n",
       "    </tr>\n",
       "  </thead>\n",
       "  <tbody>\n",
       "    <tr>\n",
       "      <th>0</th>\n",
       "      <td>Rashid Khan</td>\n",
       "      <td>0</td>\n",
       "      <td>BOWLER</td>\n",
       "      <td>15.0</td>\n",
       "      <td>1950.0</td>\n",
       "      <td>SRH</td>\n",
       "      <td>Gujarat Titans</td>\n",
       "      <td>sold</td>\n",
       "      <td>Draft Pick</td>\n",
       "      <td>0</td>\n",
       "      <td>0</td>\n",
       "    </tr>\n",
       "    <tr>\n",
       "      <th>1</th>\n",
       "      <td>Hardik Pandya</td>\n",
       "      <td>0</td>\n",
       "      <td>ALL-ROUNDER</td>\n",
       "      <td>15.0</td>\n",
       "      <td>1950.0</td>\n",
       "      <td>MI</td>\n",
       "      <td>Gujarat Titans</td>\n",
       "      <td>sold</td>\n",
       "      <td>Draft Pick</td>\n",
       "      <td>0</td>\n",
       "      <td>0</td>\n",
       "    </tr>\n",
       "    <tr>\n",
       "      <th>2</th>\n",
       "      <td>Lockie Ferguson</td>\n",
       "      <td>2 Cr</td>\n",
       "      <td>BOWLER</td>\n",
       "      <td>10.0</td>\n",
       "      <td>1300.0</td>\n",
       "      <td>KKR</td>\n",
       "      <td>Gujarat Titans</td>\n",
       "      <td>sold</td>\n",
       "      <td>From Auction</td>\n",
       "      <td>2</td>\n",
       "      <td>Cr</td>\n",
       "    </tr>\n",
       "    <tr>\n",
       "      <th>3</th>\n",
       "      <td>Rahul Tewatia</td>\n",
       "      <td>40 Lakh</td>\n",
       "      <td>ALL-ROUNDER</td>\n",
       "      <td>9.0</td>\n",
       "      <td>1170.0</td>\n",
       "      <td>RR</td>\n",
       "      <td>Gujarat Titans</td>\n",
       "      <td>sold</td>\n",
       "      <td>From Auction</td>\n",
       "      <td>40</td>\n",
       "      <td>Lakh</td>\n",
       "    </tr>\n",
       "    <tr>\n",
       "      <th>4</th>\n",
       "      <td>Shubman Gill</td>\n",
       "      <td>0</td>\n",
       "      <td>BATTER</td>\n",
       "      <td>8.0</td>\n",
       "      <td>1040.0</td>\n",
       "      <td>KKR</td>\n",
       "      <td>Gujarat Titans</td>\n",
       "      <td>sold</td>\n",
       "      <td>Draft Pick</td>\n",
       "      <td>0</td>\n",
       "      <td>0</td>\n",
       "    </tr>\n",
       "  </tbody>\n",
       "</table>\n",
       "</div>"
      ],
      "text/plain": [
       "            Player Base Price         TYPE  COST IN ₹ (CR.)  Cost IN $ (000)  \\\n",
       "0      Rashid Khan          0       BOWLER             15.0           1950.0   \n",
       "1    Hardik Pandya          0  ALL-ROUNDER             15.0           1950.0   \n",
       "2  Lockie Ferguson       2 Cr       BOWLER             10.0           1300.0   \n",
       "3    Rahul Tewatia    40 Lakh  ALL-ROUNDER              9.0           1170.0   \n",
       "4     Shubman Gill          0       BATTER              8.0           1040.0   \n",
       "\n",
       "  2021 Squad            Team Status     Retention Price_value Price_value_unit  \n",
       "0        SRH  Gujarat Titans   sold    Draft Pick           0                0  \n",
       "1         MI  Gujarat Titans   sold    Draft Pick           0                0  \n",
       "2        KKR  Gujarat Titans   sold  From Auction           2               Cr  \n",
       "3         RR  Gujarat Titans   sold  From Auction          40             Lakh  \n",
       "4        KKR  Gujarat Titans   sold    Draft Pick           0                0  "
      ]
     },
     "execution_count": 50,
     "metadata": {},
     "output_type": "execute_result"
    }
   ],
   "source": [
    "ipl.head()"
   ]
  },
  {
   "cell_type": "code",
   "execution_count": 51,
   "id": "f577fe25",
   "metadata": {},
   "outputs": [
    {
     "data": {
      "text/html": [
       "<div>\n",
       "<style scoped>\n",
       "    .dataframe tbody tr th:only-of-type {\n",
       "        vertical-align: middle;\n",
       "    }\n",
       "\n",
       "    .dataframe tbody tr th {\n",
       "        vertical-align: top;\n",
       "    }\n",
       "\n",
       "    .dataframe thead th {\n",
       "        text-align: right;\n",
       "    }\n",
       "</style>\n",
       "<table border=\"1\" class=\"dataframe\">\n",
       "  <thead>\n",
       "    <tr style=\"text-align: right;\">\n",
       "      <th></th>\n",
       "      <th>Player</th>\n",
       "      <th>2021 Squad</th>\n",
       "    </tr>\n",
       "  </thead>\n",
       "  <tbody>\n",
       "    <tr>\n",
       "      <th>237</th>\n",
       "      <td>Suresh Raina</td>\n",
       "      <td>CSK</td>\n",
       "    </tr>\n",
       "    <tr>\n",
       "      <th>238</th>\n",
       "      <td>Steve Smith</td>\n",
       "      <td>DC</td>\n",
       "    </tr>\n",
       "    <tr>\n",
       "      <th>239</th>\n",
       "      <td>Shakib Al Hasan</td>\n",
       "      <td>KKR</td>\n",
       "    </tr>\n",
       "    <tr>\n",
       "      <th>240</th>\n",
       "      <td>Amit Mishra</td>\n",
       "      <td>DC</td>\n",
       "    </tr>\n",
       "    <tr>\n",
       "      <th>241</th>\n",
       "      <td>Adil Rashid</td>\n",
       "      <td>PBKS</td>\n",
       "    </tr>\n",
       "    <tr>\n",
       "      <th>242</th>\n",
       "      <td>Imran Tahir</td>\n",
       "      <td>CSK</td>\n",
       "    </tr>\n",
       "    <tr>\n",
       "      <th>243</th>\n",
       "      <td>Mujeeb Zadran</td>\n",
       "      <td>SRH</td>\n",
       "    </tr>\n",
       "    <tr>\n",
       "      <th>244</th>\n",
       "      <td>Adam Zampa</td>\n",
       "      <td>RCB</td>\n",
       "    </tr>\n",
       "    <tr>\n",
       "      <th>245</th>\n",
       "      <td>Rajat Patidar</td>\n",
       "      <td>RCB</td>\n",
       "    </tr>\n",
       "    <tr>\n",
       "      <th>246</th>\n",
       "      <td>Mohammed Azharuddeen</td>\n",
       "      <td>RCB</td>\n",
       "    </tr>\n",
       "    <tr>\n",
       "      <th>249</th>\n",
       "      <td>M. Siddharth</td>\n",
       "      <td>DC</td>\n",
       "    </tr>\n",
       "    <tr>\n",
       "      <th>252</th>\n",
       "      <td>Dawid Malan</td>\n",
       "      <td>PBKS</td>\n",
       "    </tr>\n",
       "    <tr>\n",
       "      <th>253</th>\n",
       "      <td>Eoin Morgan</td>\n",
       "      <td>KKR</td>\n",
       "    </tr>\n",
       "    <tr>\n",
       "      <th>254</th>\n",
       "      <td>Cheteshwar Pujara</td>\n",
       "      <td>CSK</td>\n",
       "    </tr>\n",
       "    <tr>\n",
       "      <th>255</th>\n",
       "      <td>Saurabh Tiwary</td>\n",
       "      <td>MI</td>\n",
       "    </tr>\n",
       "    <tr>\n",
       "      <th>257</th>\n",
       "      <td>Ishant Sharma</td>\n",
       "      <td>DC</td>\n",
       "    </tr>\n",
       "    <tr>\n",
       "      <th>259</th>\n",
       "      <td>Piyush Chawla</td>\n",
       "      <td>MI</td>\n",
       "    </tr>\n",
       "    <tr>\n",
       "      <th>260</th>\n",
       "      <td>Tabraiz Shamsi</td>\n",
       "      <td>RR</td>\n",
       "    </tr>\n",
       "    <tr>\n",
       "      <th>262</th>\n",
       "      <td>Sachin Baby</td>\n",
       "      <td>RCB</td>\n",
       "    </tr>\n",
       "    <tr>\n",
       "      <th>267</th>\n",
       "      <td>Virat Singh</td>\n",
       "      <td>SRH</td>\n",
       "    </tr>\n",
       "    <tr>\n",
       "      <th>269</th>\n",
       "      <td>Akash Singh</td>\n",
       "      <td>RR</td>\n",
       "    </tr>\n",
       "    <tr>\n",
       "      <th>273</th>\n",
       "      <td>Chris Lynn</td>\n",
       "      <td>MI</td>\n",
       "    </tr>\n",
       "    <tr>\n",
       "      <th>276</th>\n",
       "      <td>George Garton</td>\n",
       "      <td>RCB</td>\n",
       "    </tr>\n",
       "    <tr>\n",
       "      <th>288</th>\n",
       "      <td>Andrew Tye</td>\n",
       "      <td>RR</td>\n",
       "    </tr>\n",
       "    <tr>\n",
       "      <th>289</th>\n",
       "      <td>Sandeep Warrier</td>\n",
       "      <td>KKR</td>\n",
       "    </tr>\n",
       "    <tr>\n",
       "      <th>311</th>\n",
       "      <td>Shreevats Goswami</td>\n",
       "      <td>SRH</td>\n",
       "    </tr>\n",
       "    <tr>\n",
       "      <th>313</th>\n",
       "      <td>Aditya Tare</td>\n",
       "      <td>MI</td>\n",
       "    </tr>\n",
       "    <tr>\n",
       "      <th>317</th>\n",
       "      <td>Lukman Hussain Meriwala</td>\n",
       "      <td>DC</td>\n",
       "    </tr>\n",
       "    <tr>\n",
       "      <th>325</th>\n",
       "      <td>Jalaj Saxena</td>\n",
       "      <td>PBKS</td>\n",
       "    </tr>\n",
       "    <tr>\n",
       "      <th>337</th>\n",
       "      <td>Ben Cutting</td>\n",
       "      <td>KKR</td>\n",
       "    </tr>\n",
       "    <tr>\n",
       "      <th>339</th>\n",
       "      <td>Moises Henriques</td>\n",
       "      <td>PBKS</td>\n",
       "    </tr>\n",
       "    <tr>\n",
       "      <th>342</th>\n",
       "      <td>Scott Kuggeleijn</td>\n",
       "      <td>RCB</td>\n",
       "    </tr>\n",
       "    <tr>\n",
       "      <th>343</th>\n",
       "      <td>Pawan Negi</td>\n",
       "      <td>KKR</td>\n",
       "    </tr>\n",
       "    <tr>\n",
       "      <th>346</th>\n",
       "      <td>Dhawal Kulkarni</td>\n",
       "      <td>MI</td>\n",
       "    </tr>\n",
       "    <tr>\n",
       "      <th>348</th>\n",
       "      <td>Kane Richardson</td>\n",
       "      <td>RCB</td>\n",
       "    </tr>\n",
       "    <tr>\n",
       "      <th>404</th>\n",
       "      <td>Kedar Jadhav</td>\n",
       "      <td>SRH</td>\n",
       "    </tr>\n",
       "    <tr>\n",
       "      <th>429</th>\n",
       "      <td>Yudhvir Charak</td>\n",
       "      <td>MI</td>\n",
       "    </tr>\n",
       "    <tr>\n",
       "      <th>447</th>\n",
       "      <td>Kulwant Khejroliya</td>\n",
       "      <td>DC</td>\n",
       "    </tr>\n",
       "    <tr>\n",
       "      <th>535</th>\n",
       "      <td>Anirudha Joshi</td>\n",
       "      <td>DC</td>\n",
       "    </tr>\n",
       "    <tr>\n",
       "      <th>623</th>\n",
       "      <td>Agnivesh Ayachi</td>\n",
       "      <td>PBKS</td>\n",
       "    </tr>\n",
       "  </tbody>\n",
       "</table>\n",
       "</div>"
      ],
      "text/plain": [
       "                      Player 2021 Squad\n",
       "237             Suresh Raina        CSK\n",
       "238              Steve Smith         DC\n",
       "239          Shakib Al Hasan        KKR\n",
       "240              Amit Mishra         DC\n",
       "241              Adil Rashid       PBKS\n",
       "242              Imran Tahir        CSK\n",
       "243            Mujeeb Zadran        SRH\n",
       "244               Adam Zampa        RCB\n",
       "245            Rajat Patidar        RCB\n",
       "246     Mohammed Azharuddeen        RCB\n",
       "249             M. Siddharth         DC\n",
       "252              Dawid Malan       PBKS\n",
       "253              Eoin Morgan        KKR\n",
       "254        Cheteshwar Pujara        CSK\n",
       "255           Saurabh Tiwary         MI\n",
       "257            Ishant Sharma         DC\n",
       "259            Piyush Chawla         MI\n",
       "260           Tabraiz Shamsi         RR\n",
       "262              Sachin Baby        RCB\n",
       "267              Virat Singh        SRH\n",
       "269              Akash Singh         RR\n",
       "273               Chris Lynn         MI\n",
       "276            George Garton        RCB\n",
       "288               Andrew Tye         RR\n",
       "289          Sandeep Warrier        KKR\n",
       "311        Shreevats Goswami        SRH\n",
       "313              Aditya Tare         MI\n",
       "317  Lukman Hussain Meriwala         DC\n",
       "325             Jalaj Saxena       PBKS\n",
       "337              Ben Cutting        KKR\n",
       "339         Moises Henriques       PBKS\n",
       "342         Scott Kuggeleijn        RCB\n",
       "343               Pawan Negi        KKR\n",
       "346          Dhawal Kulkarni         MI\n",
       "348          Kane Richardson        RCB\n",
       "404             Kedar Jadhav        SRH\n",
       "429           Yudhvir Charak         MI\n",
       "447       Kulwant Khejroliya         DC\n",
       "535           Anirudha Joshi         DC\n",
       "623          Agnivesh Ayachi       PBKS"
      ]
     },
     "execution_count": 51,
     "metadata": {},
     "output_type": "execute_result"
    }
   ],
   "source": [
    "ipl[(ipl.Team==\"Unsold\") & (ipl[\"2021 Squad\"] != \"Not participated\")][[\"Player\",\"2021 Squad\"]]"
   ]
  },
  {
   "cell_type": "code",
   "execution_count": null,
   "id": "8281138f",
   "metadata": {},
   "outputs": [],
   "source": []
  }
 ],
 "metadata": {
  "kernelspec": {
   "display_name": "Python 3 (ipykernel)",
   "language": "python",
   "name": "python3"
  },
  "language_info": {
   "codemirror_mode": {
    "name": "ipython",
    "version": 3
   },
   "file_extension": ".py",
   "mimetype": "text/x-python",
   "name": "python",
   "nbconvert_exporter": "python",
   "pygments_lexer": "ipython3",
   "version": "3.9.7"
  }
 },
 "nbformat": 4,
 "nbformat_minor": 5
}
